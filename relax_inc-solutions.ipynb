{
 "cells": [
  {
   "cell_type": "markdown",
   "id": "determined-emperor",
   "metadata": {},
   "source": [
    "# Responses to the Relax Inc. take-home challenge"
   ]
  },
  {
   "cell_type": "markdown",
   "id": "similar-account",
   "metadata": {},
   "source": [
    "Load libraries:"
   ]
  },
  {
   "cell_type": "code",
   "execution_count": 1,
   "id": "rotary-hours",
   "metadata": {},
   "outputs": [],
   "source": [
    "import pandas as pd\n",
    "import numpy as np\n",
    "import matplotlib as mpl # colors\n",
    "import matplotlib.pyplot as plt\n",
    "import matplotlib.ticker as ticker\n",
    "import seaborn as sns\n",
    "from datetime import datetime as dt\n",
    "import pickle\n",
    "\n",
    "plt.rcParams['axes.grid'] = True\n",
    "plt.rcParams['axes.axisbelow'] = True\n",
    "plt.rcParams['axes.xmargin'] = 0.02\n",
    "plt.rcParams['axes.ymargin'] = 0.1\n",
    "plt.rcParams['xtick.minor.visible'] = True\n",
    "plt.rcParams['ytick.minor.visible'] = True\n",
    "\n",
    "plt.rcParams['figure.figsize'] = (20.0, 5.0)\n",
    "plt.rcParams['axes.labelsize'] = 20\n",
    "plt.rcParams['xtick.labelsize'] = 14\n",
    "plt.rcParams['ytick.labelsize'] = 14"
   ]
  },
  {
   "cell_type": "markdown",
   "id": "major-finland",
   "metadata": {},
   "source": [
    "## 1. Datasets"
   ]
  },
  {
   "cell_type": "markdown",
   "id": "helpful-liquid",
   "metadata": {},
   "source": [
    "Two tables:\n",
    "1. A user table ( \"takehome_users\" ) with data on 12,000 users who signed up for the product in the last two years.\n",
    "2. A usage summary table ( \"takehome_user_engagement\" ) that has a row for each day that a user logged into the product.\n",
    "\n",
    "Let's read them in:"
   ]
  },
  {
   "cell_type": "code",
   "execution_count": 2,
   "id": "traditional-accountability",
   "metadata": {},
   "outputs": [
    {
     "data": {
      "text/html": [
       "<div>\n",
       "<style scoped>\n",
       "    .dataframe tbody tr th:only-of-type {\n",
       "        vertical-align: middle;\n",
       "    }\n",
       "\n",
       "    .dataframe tbody tr th {\n",
       "        vertical-align: top;\n",
       "    }\n",
       "\n",
       "    .dataframe thead th {\n",
       "        text-align: right;\n",
       "    }\n",
       "</style>\n",
       "<table border=\"1\" class=\"dataframe\">\n",
       "  <thead>\n",
       "    <tr style=\"text-align: right;\">\n",
       "      <th></th>\n",
       "      <th>object_id</th>\n",
       "      <th>creation_time</th>\n",
       "      <th>name</th>\n",
       "      <th>email</th>\n",
       "      <th>creation_source</th>\n",
       "      <th>last_session_creation_time</th>\n",
       "      <th>opted_in_to_mailing_list</th>\n",
       "      <th>enabled_for_marketing_drip</th>\n",
       "      <th>org_id</th>\n",
       "      <th>invited_by_user_id</th>\n",
       "    </tr>\n",
       "  </thead>\n",
       "  <tbody>\n",
       "    <tr>\n",
       "      <th>0</th>\n",
       "      <td>1</td>\n",
       "      <td>2014-04-22 03:53:30</td>\n",
       "      <td>Clausen August</td>\n",
       "      <td>AugustCClausen@yahoo.com</td>\n",
       "      <td>GUEST_INVITE</td>\n",
       "      <td>1.398139e+09</td>\n",
       "      <td>1</td>\n",
       "      <td>0</td>\n",
       "      <td>11</td>\n",
       "      <td>10803.0</td>\n",
       "    </tr>\n",
       "    <tr>\n",
       "      <th>1</th>\n",
       "      <td>2</td>\n",
       "      <td>2013-11-15 03:45:04</td>\n",
       "      <td>Poole Matthew</td>\n",
       "      <td>MatthewPoole@gustr.com</td>\n",
       "      <td>ORG_INVITE</td>\n",
       "      <td>1.396238e+09</td>\n",
       "      <td>0</td>\n",
       "      <td>0</td>\n",
       "      <td>1</td>\n",
       "      <td>316.0</td>\n",
       "    </tr>\n",
       "    <tr>\n",
       "      <th>2</th>\n",
       "      <td>3</td>\n",
       "      <td>2013-03-19 23:14:52</td>\n",
       "      <td>Bottrill Mitchell</td>\n",
       "      <td>MitchellBottrill@gustr.com</td>\n",
       "      <td>ORG_INVITE</td>\n",
       "      <td>1.363735e+09</td>\n",
       "      <td>0</td>\n",
       "      <td>0</td>\n",
       "      <td>94</td>\n",
       "      <td>1525.0</td>\n",
       "    </tr>\n",
       "    <tr>\n",
       "      <th>3</th>\n",
       "      <td>4</td>\n",
       "      <td>2013-05-21 08:09:28</td>\n",
       "      <td>Clausen Nicklas</td>\n",
       "      <td>NicklasSClausen@yahoo.com</td>\n",
       "      <td>GUEST_INVITE</td>\n",
       "      <td>1.369210e+09</td>\n",
       "      <td>0</td>\n",
       "      <td>0</td>\n",
       "      <td>1</td>\n",
       "      <td>5151.0</td>\n",
       "    </tr>\n",
       "    <tr>\n",
       "      <th>4</th>\n",
       "      <td>5</td>\n",
       "      <td>2013-01-17 10:14:20</td>\n",
       "      <td>Raw Grace</td>\n",
       "      <td>GraceRaw@yahoo.com</td>\n",
       "      <td>GUEST_INVITE</td>\n",
       "      <td>1.358850e+09</td>\n",
       "      <td>0</td>\n",
       "      <td>0</td>\n",
       "      <td>193</td>\n",
       "      <td>5240.0</td>\n",
       "    </tr>\n",
       "  </tbody>\n",
       "</table>\n",
       "</div>"
      ],
      "text/plain": [
       "   object_id        creation_time               name  \\\n",
       "0          1  2014-04-22 03:53:30     Clausen August   \n",
       "1          2  2013-11-15 03:45:04      Poole Matthew   \n",
       "2          3  2013-03-19 23:14:52  Bottrill Mitchell   \n",
       "3          4  2013-05-21 08:09:28    Clausen Nicklas   \n",
       "4          5  2013-01-17 10:14:20          Raw Grace   \n",
       "\n",
       "                        email creation_source  last_session_creation_time  \\\n",
       "0    AugustCClausen@yahoo.com    GUEST_INVITE                1.398139e+09   \n",
       "1      MatthewPoole@gustr.com      ORG_INVITE                1.396238e+09   \n",
       "2  MitchellBottrill@gustr.com      ORG_INVITE                1.363735e+09   \n",
       "3   NicklasSClausen@yahoo.com    GUEST_INVITE                1.369210e+09   \n",
       "4          GraceRaw@yahoo.com    GUEST_INVITE                1.358850e+09   \n",
       "\n",
       "   opted_in_to_mailing_list  enabled_for_marketing_drip  org_id  \\\n",
       "0                         1                           0      11   \n",
       "1                         0                           0       1   \n",
       "2                         0                           0      94   \n",
       "3                         0                           0       1   \n",
       "4                         0                           0     193   \n",
       "\n",
       "   invited_by_user_id  \n",
       "0             10803.0  \n",
       "1               316.0  \n",
       "2              1525.0  \n",
       "3              5151.0  \n",
       "4              5240.0  "
      ]
     },
     "execution_count": 2,
     "metadata": {},
     "output_type": "execute_result"
    }
   ],
   "source": [
    "# The first file, with users:\n",
    "du = pd.read_csv('takehome_users.csv',encoding='latin-1')\n",
    "du.head()"
   ]
  },
  {
   "cell_type": "code",
   "execution_count": 3,
   "id": "encouraging-specialist",
   "metadata": {},
   "outputs": [
    {
     "name": "stdout",
     "output_type": "stream",
     "text": [
      "<class 'pandas.core.frame.DataFrame'>\n",
      "RangeIndex: 12000 entries, 0 to 11999\n",
      "Data columns (total 10 columns):\n",
      " #   Column                      Non-Null Count  Dtype  \n",
      "---  ------                      --------------  -----  \n",
      " 0   object_id                   12000 non-null  int64  \n",
      " 1   creation_time               12000 non-null  object \n",
      " 2   name                        12000 non-null  object \n",
      " 3   email                       12000 non-null  object \n",
      " 4   creation_source             12000 non-null  object \n",
      " 5   last_session_creation_time  8823 non-null   float64\n",
      " 6   opted_in_to_mailing_list    12000 non-null  int64  \n",
      " 7   enabled_for_marketing_drip  12000 non-null  int64  \n",
      " 8   org_id                      12000 non-null  int64  \n",
      " 9   invited_by_user_id          6417 non-null   float64\n",
      "dtypes: float64(2), int64(4), object(4)\n",
      "memory usage: 937.6+ KB\n"
     ]
    }
   ],
   "source": [
    "du.info()"
   ]
  },
  {
   "cell_type": "code",
   "execution_count": 4,
   "id": "virtual-horizontal",
   "metadata": {},
   "outputs": [],
   "source": [
    "du['creation_time'] = pd.to_datetime(du['creation_time'])\n",
    "du['last_session_creation_time'] = pd.to_datetime(du['last_session_creation_time'],unit='s') # from unix timestamp"
   ]
  },
  {
   "cell_type": "code",
   "execution_count": 5,
   "id": "reserved-stone",
   "metadata": {},
   "outputs": [
    {
     "name": "stdout",
     "output_type": "stream",
     "text": [
      "<class 'pandas.core.frame.DataFrame'>\n",
      "RangeIndex: 12000 entries, 0 to 11999\n",
      "Data columns (total 10 columns):\n",
      " #   Column                      Non-Null Count  Dtype         \n",
      "---  ------                      --------------  -----         \n",
      " 0   object_id                   12000 non-null  int64         \n",
      " 1   creation_time               12000 non-null  datetime64[ns]\n",
      " 2   name                        12000 non-null  object        \n",
      " 3   email                       12000 non-null  object        \n",
      " 4   creation_source             12000 non-null  object        \n",
      " 5   last_session_creation_time  8823 non-null   datetime64[ns]\n",
      " 6   opted_in_to_mailing_list    12000 non-null  int64         \n",
      " 7   enabled_for_marketing_drip  12000 non-null  int64         \n",
      " 8   org_id                      12000 non-null  int64         \n",
      " 9   invited_by_user_id          6417 non-null   float64       \n",
      "dtypes: datetime64[ns](2), float64(1), int64(4), object(3)\n",
      "memory usage: 937.6+ KB\n"
     ]
    }
   ],
   "source": [
    "du.info()"
   ]
  },
  {
   "cell_type": "markdown",
   "id": "connected-contributor",
   "metadata": {},
   "source": [
    "Missing values only in two columns: last_session_creation_time and invited_by_user_id."
   ]
  },
  {
   "cell_type": "code",
   "execution_count": null,
   "id": "geological-expression",
   "metadata": {},
   "outputs": [],
   "source": []
  },
  {
   "cell_type": "code",
   "execution_count": 6,
   "id": "pediatric-calculation",
   "metadata": {},
   "outputs": [
    {
     "data": {
      "text/html": [
       "<div>\n",
       "<style scoped>\n",
       "    .dataframe tbody tr th:only-of-type {\n",
       "        vertical-align: middle;\n",
       "    }\n",
       "\n",
       "    .dataframe tbody tr th {\n",
       "        vertical-align: top;\n",
       "    }\n",
       "\n",
       "    .dataframe thead th {\n",
       "        text-align: right;\n",
       "    }\n",
       "</style>\n",
       "<table border=\"1\" class=\"dataframe\">\n",
       "  <thead>\n",
       "    <tr style=\"text-align: right;\">\n",
       "      <th></th>\n",
       "      <th>time_stamp</th>\n",
       "      <th>user_id</th>\n",
       "      <th>visited</th>\n",
       "    </tr>\n",
       "  </thead>\n",
       "  <tbody>\n",
       "    <tr>\n",
       "      <th>0</th>\n",
       "      <td>2014-04-22 03:53:30</td>\n",
       "      <td>1</td>\n",
       "      <td>1</td>\n",
       "    </tr>\n",
       "    <tr>\n",
       "      <th>1</th>\n",
       "      <td>2013-11-15 03:45:04</td>\n",
       "      <td>2</td>\n",
       "      <td>1</td>\n",
       "    </tr>\n",
       "    <tr>\n",
       "      <th>2</th>\n",
       "      <td>2013-11-29 03:45:04</td>\n",
       "      <td>2</td>\n",
       "      <td>1</td>\n",
       "    </tr>\n",
       "    <tr>\n",
       "      <th>3</th>\n",
       "      <td>2013-12-09 03:45:04</td>\n",
       "      <td>2</td>\n",
       "      <td>1</td>\n",
       "    </tr>\n",
       "    <tr>\n",
       "      <th>4</th>\n",
       "      <td>2013-12-25 03:45:04</td>\n",
       "      <td>2</td>\n",
       "      <td>1</td>\n",
       "    </tr>\n",
       "  </tbody>\n",
       "</table>\n",
       "</div>"
      ],
      "text/plain": [
       "            time_stamp  user_id  visited\n",
       "0  2014-04-22 03:53:30        1        1\n",
       "1  2013-11-15 03:45:04        2        1\n",
       "2  2013-11-29 03:45:04        2        1\n",
       "3  2013-12-09 03:45:04        2        1\n",
       "4  2013-12-25 03:45:04        2        1"
      ]
     },
     "execution_count": 6,
     "metadata": {},
     "output_type": "execute_result"
    }
   ],
   "source": [
    "#The second file, with their logins history:\n",
    "dl = pd.read_csv('takehome_user_engagement.csv')\n",
    "dl.head()"
   ]
  },
  {
   "cell_type": "code",
   "execution_count": 7,
   "id": "increased-mills",
   "metadata": {},
   "outputs": [
    {
     "name": "stdout",
     "output_type": "stream",
     "text": [
      "<class 'pandas.core.frame.DataFrame'>\n",
      "RangeIndex: 207917 entries, 0 to 207916\n",
      "Data columns (total 3 columns):\n",
      " #   Column      Non-Null Count   Dtype \n",
      "---  ------      --------------   ----- \n",
      " 0   time_stamp  207917 non-null  object\n",
      " 1   user_id     207917 non-null  int64 \n",
      " 2   visited     207917 non-null  int64 \n",
      "dtypes: int64(2), object(1)\n",
      "memory usage: 4.8+ MB\n"
     ]
    }
   ],
   "source": [
    "dl.info()"
   ]
  },
  {
   "cell_type": "code",
   "execution_count": 8,
   "id": "lightweight-milwaukee",
   "metadata": {},
   "outputs": [],
   "source": [
    "dl['time_stamp'] = pd.to_datetime(dl['time_stamp'])\n",
    "dl = dl.set_index('time_stamp')"
   ]
  },
  {
   "cell_type": "code",
   "execution_count": 9,
   "id": "virgin-silicon",
   "metadata": {},
   "outputs": [
    {
     "data": {
      "text/html": [
       "<div>\n",
       "<style scoped>\n",
       "    .dataframe tbody tr th:only-of-type {\n",
       "        vertical-align: middle;\n",
       "    }\n",
       "\n",
       "    .dataframe tbody tr th {\n",
       "        vertical-align: top;\n",
       "    }\n",
       "\n",
       "    .dataframe thead th {\n",
       "        text-align: right;\n",
       "    }\n",
       "</style>\n",
       "<table border=\"1\" class=\"dataframe\">\n",
       "  <thead>\n",
       "    <tr style=\"text-align: right;\">\n",
       "      <th></th>\n",
       "      <th>user_id</th>\n",
       "      <th>visited</th>\n",
       "    </tr>\n",
       "    <tr>\n",
       "      <th>time_stamp</th>\n",
       "      <th></th>\n",
       "      <th></th>\n",
       "    </tr>\n",
       "  </thead>\n",
       "  <tbody>\n",
       "    <tr>\n",
       "      <th>2014-04-22 03:53:30</th>\n",
       "      <td>1</td>\n",
       "      <td>1</td>\n",
       "    </tr>\n",
       "    <tr>\n",
       "      <th>2013-11-15 03:45:04</th>\n",
       "      <td>2</td>\n",
       "      <td>1</td>\n",
       "    </tr>\n",
       "    <tr>\n",
       "      <th>2013-11-29 03:45:04</th>\n",
       "      <td>2</td>\n",
       "      <td>1</td>\n",
       "    </tr>\n",
       "    <tr>\n",
       "      <th>2013-12-09 03:45:04</th>\n",
       "      <td>2</td>\n",
       "      <td>1</td>\n",
       "    </tr>\n",
       "    <tr>\n",
       "      <th>2013-12-25 03:45:04</th>\n",
       "      <td>2</td>\n",
       "      <td>1</td>\n",
       "    </tr>\n",
       "  </tbody>\n",
       "</table>\n",
       "</div>"
      ],
      "text/plain": [
       "                     user_id  visited\n",
       "time_stamp                           \n",
       "2014-04-22 03:53:30        1        1\n",
       "2013-11-15 03:45:04        2        1\n",
       "2013-11-29 03:45:04        2        1\n",
       "2013-12-09 03:45:04        2        1\n",
       "2013-12-25 03:45:04        2        1"
      ]
     },
     "execution_count": 9,
     "metadata": {},
     "output_type": "execute_result"
    }
   ],
   "source": [
    "dl.head()"
   ]
  },
  {
   "cell_type": "code",
   "execution_count": 10,
   "id": "robust-prince",
   "metadata": {},
   "outputs": [
    {
     "name": "stdout",
     "output_type": "stream",
     "text": [
      "<class 'pandas.core.frame.DataFrame'>\n",
      "DatetimeIndex: 207917 entries, 2014-04-22 03:53:30 to 2014-01-26 08:57:12\n",
      "Data columns (total 2 columns):\n",
      " #   Column   Non-Null Count   Dtype\n",
      "---  ------   --------------   -----\n",
      " 0   user_id  207917 non-null  int64\n",
      " 1   visited  207917 non-null  int64\n",
      "dtypes: int64(2)\n",
      "memory usage: 4.8 MB\n"
     ]
    }
   ],
   "source": [
    "dl.info()"
   ]
  },
  {
   "cell_type": "markdown",
   "id": "individual-congress",
   "metadata": {},
   "source": [
    "Are all the 12,000 users included in the login file?:"
   ]
  },
  {
   "cell_type": "code",
   "execution_count": 11,
   "id": "unknown-stations",
   "metadata": {},
   "outputs": [
    {
     "data": {
      "text/plain": [
       "8823"
      ]
     },
     "execution_count": 11,
     "metadata": {},
     "output_type": "execute_result"
    }
   ],
   "source": [
    "dl['user_id'].nunique()"
   ]
  },
  {
   "cell_type": "markdown",
   "id": "administrative-abortion",
   "metadata": {},
   "source": [
    "Nope. For some reason, only 8,823 users are included."
   ]
  },
  {
   "cell_type": "markdown",
   "id": "becoming-jason",
   "metadata": {},
   "source": [
    "## 2. Adopted users"
   ]
  },
  {
   "cell_type": "markdown",
   "id": "manufactured-richmond",
   "metadata": {},
   "source": [
    "Define an __\"adopted user\"__ as a user who has logged into the product on three separate days in at least one seven-day period.\n",
    "\n",
    "First, let's check how many total logins for each user:"
   ]
  },
  {
   "cell_type": "code",
   "execution_count": 12,
   "id": "possible-joyce",
   "metadata": {},
   "outputs": [
    {
     "data": {
      "image/png": "[encoded data removed]",
      "text/plain": [
       "<Figure size 1440x360 with 1 Axes>"
      ]
     },
     "metadata": {
      "needs_background": "light"
     },
     "output_type": "display_data"
    }
   ],
   "source": [
    "dl.groupby('user_id').count().hist(bins=600,log=True)\n",
    "\n",
    "plt.xlabel('Number of logins'); plt.ylabel('Number of users');"
   ]
  },
  {
   "cell_type": "markdown",
   "id": "demanding-promise",
   "metadata": {},
   "source": [
    "Let's now find active users using the definition above."
   ]
  },
  {
   "cell_type": "code",
   "execution_count": 13,
   "id": "smoking-rainbow",
   "metadata": {},
   "outputs": [
    {
     "data": {
      "text/html": [
       "<div>\n",
       "<style scoped>\n",
       "    .dataframe tbody tr th:only-of-type {\n",
       "        vertical-align: middle;\n",
       "    }\n",
       "\n",
       "    .dataframe tbody tr th {\n",
       "        vertical-align: top;\n",
       "    }\n",
       "\n",
       "    .dataframe thead th {\n",
       "        text-align: right;\n",
       "    }\n",
       "</style>\n",
       "<table border=\"1\" class=\"dataframe\">\n",
       "  <thead>\n",
       "    <tr style=\"text-align: right;\">\n",
       "      <th></th>\n",
       "      <th>user_id</th>\n",
       "      <th>visited</th>\n",
       "    </tr>\n",
       "    <tr>\n",
       "      <th>time_stamp</th>\n",
       "      <th></th>\n",
       "      <th></th>\n",
       "    </tr>\n",
       "  </thead>\n",
       "  <tbody>\n",
       "    <tr>\n",
       "      <th>2014-04-22 03:53:30</th>\n",
       "      <td>1</td>\n",
       "      <td>1</td>\n",
       "    </tr>\n",
       "    <tr>\n",
       "      <th>2013-11-15 03:45:04</th>\n",
       "      <td>2</td>\n",
       "      <td>1</td>\n",
       "    </tr>\n",
       "    <tr>\n",
       "      <th>2013-11-29 03:45:04</th>\n",
       "      <td>2</td>\n",
       "      <td>1</td>\n",
       "    </tr>\n",
       "    <tr>\n",
       "      <th>2013-12-09 03:45:04</th>\n",
       "      <td>2</td>\n",
       "      <td>1</td>\n",
       "    </tr>\n",
       "    <tr>\n",
       "      <th>2013-12-25 03:45:04</th>\n",
       "      <td>2</td>\n",
       "      <td>1</td>\n",
       "    </tr>\n",
       "    <tr>\n",
       "      <th>2013-12-31 03:45:04</th>\n",
       "      <td>2</td>\n",
       "      <td>1</td>\n",
       "    </tr>\n",
       "    <tr>\n",
       "      <th>2014-01-08 03:45:04</th>\n",
       "      <td>2</td>\n",
       "      <td>1</td>\n",
       "    </tr>\n",
       "    <tr>\n",
       "      <th>2014-02-03 03:45:04</th>\n",
       "      <td>2</td>\n",
       "      <td>1</td>\n",
       "    </tr>\n",
       "    <tr>\n",
       "      <th>2014-02-08 03:45:04</th>\n",
       "      <td>2</td>\n",
       "      <td>1</td>\n",
       "    </tr>\n",
       "    <tr>\n",
       "      <th>2014-02-09 03:45:04</th>\n",
       "      <td>2</td>\n",
       "      <td>1</td>\n",
       "    </tr>\n",
       "    <tr>\n",
       "      <th>2014-02-13 03:45:04</th>\n",
       "      <td>2</td>\n",
       "      <td>1</td>\n",
       "    </tr>\n",
       "    <tr>\n",
       "      <th>2014-02-16 03:45:04</th>\n",
       "      <td>2</td>\n",
       "      <td>1</td>\n",
       "    </tr>\n",
       "    <tr>\n",
       "      <th>2014-03-09 03:45:04</th>\n",
       "      <td>2</td>\n",
       "      <td>1</td>\n",
       "    </tr>\n",
       "    <tr>\n",
       "      <th>2014-03-13 03:45:04</th>\n",
       "      <td>2</td>\n",
       "      <td>1</td>\n",
       "    </tr>\n",
       "    <tr>\n",
       "      <th>2014-03-31 03:45:04</th>\n",
       "      <td>2</td>\n",
       "      <td>1</td>\n",
       "    </tr>\n",
       "    <tr>\n",
       "      <th>2013-03-19 23:14:52</th>\n",
       "      <td>3</td>\n",
       "      <td>1</td>\n",
       "    </tr>\n",
       "    <tr>\n",
       "      <th>2013-05-22 08:09:28</th>\n",
       "      <td>4</td>\n",
       "      <td>1</td>\n",
       "    </tr>\n",
       "    <tr>\n",
       "      <th>2013-01-22 10:14:20</th>\n",
       "      <td>5</td>\n",
       "      <td>1</td>\n",
       "    </tr>\n",
       "    <tr>\n",
       "      <th>2013-12-19 03:37:06</th>\n",
       "      <td>6</td>\n",
       "      <td>1</td>\n",
       "    </tr>\n",
       "    <tr>\n",
       "      <th>2012-12-20 13:24:32</th>\n",
       "      <td>7</td>\n",
       "      <td>1</td>\n",
       "    </tr>\n",
       "  </tbody>\n",
       "</table>\n",
       "</div>"
      ],
      "text/plain": [
       "                     user_id  visited\n",
       "time_stamp                           \n",
       "2014-04-22 03:53:30        1        1\n",
       "2013-11-15 03:45:04        2        1\n",
       "2013-11-29 03:45:04        2        1\n",
       "2013-12-09 03:45:04        2        1\n",
       "2013-12-25 03:45:04        2        1\n",
       "2013-12-31 03:45:04        2        1\n",
       "2014-01-08 03:45:04        2        1\n",
       "2014-02-03 03:45:04        2        1\n",
       "2014-02-08 03:45:04        2        1\n",
       "2014-02-09 03:45:04        2        1\n",
       "2014-02-13 03:45:04        2        1\n",
       "2014-02-16 03:45:04        2        1\n",
       "2014-03-09 03:45:04        2        1\n",
       "2014-03-13 03:45:04        2        1\n",
       "2014-03-31 03:45:04        2        1\n",
       "2013-03-19 23:14:52        3        1\n",
       "2013-05-22 08:09:28        4        1\n",
       "2013-01-22 10:14:20        5        1\n",
       "2013-12-19 03:37:06        6        1\n",
       "2012-12-20 13:24:32        7        1"
      ]
     },
     "execution_count": 13,
     "metadata": {},
     "output_type": "execute_result"
    }
   ],
   "source": [
    "dl.head(20)"
   ]
  },
  {
   "cell_type": "markdown",
   "id": "creative-express",
   "metadata": {},
   "source": [
    "Let's aggregate the number of logins using the pandas rolling function with the window of 7 days and both window bounadaries included in the aggregation."
   ]
  },
  {
   "cell_type": "code",
   "execution_count": 14,
   "id": "vocational-yellow",
   "metadata": {},
   "outputs": [
    {
     "data": {
      "text/plain": [
       "user_id  time_stamp         \n",
       "1        2014-04-22 03:53:30    1.0\n",
       "2        2013-11-15 03:45:04    1.0\n",
       "         2013-11-29 03:45:04    1.0\n",
       "         2013-12-09 03:45:04    1.0\n",
       "         2013-12-25 03:45:04    1.0\n",
       "         2013-12-31 03:45:04    2.0\n",
       "         2014-01-08 03:45:04    1.0\n",
       "         2014-02-03 03:45:04    1.0\n",
       "         2014-02-08 03:45:04    2.0\n",
       "         2014-02-09 03:45:04    3.0\n",
       "         2014-02-13 03:45:04    3.0\n",
       "         2014-02-16 03:45:04    2.0\n",
       "         2014-03-09 03:45:04    1.0\n",
       "         2014-03-13 03:45:04    2.0\n",
       "         2014-03-31 03:45:04    1.0\n",
       "3        2013-03-19 23:14:52    1.0\n",
       "4        2013-05-22 08:09:28    1.0\n",
       "5        2013-01-22 10:14:20    1.0\n",
       "6        2013-12-19 03:37:06    1.0\n",
       "7        2012-12-20 13:24:32    1.0\n",
       "Name: visited, dtype: float64"
      ]
     },
     "execution_count": 14,
     "metadata": {},
     "output_type": "execute_result"
    }
   ],
   "source": [
    "dl.groupby('user_id')['visited'].rolling('7d',close='both').count().head(20)"
   ]
  },
  {
   "cell_type": "code",
   "execution_count": 15,
   "id": "faced-conflict",
   "metadata": {},
   "outputs": [
    {
     "data": {
      "text/plain": [
       "user_id\n",
       "1    1.0\n",
       "2    3.0\n",
       "3    1.0\n",
       "4    1.0\n",
       "5    1.0\n",
       "6    1.0\n",
       "7    1.0\n",
       "Name: visited, dtype: float64"
      ]
     },
     "execution_count": 15,
     "metadata": {},
     "output_type": "execute_result"
    }
   ],
   "source": [
    "dl.groupby('user_id')['visited'].rolling('7d',close='both').count().reset_index().groupby('user_id')['visited'].max().head(7)"
   ]
  },
  {
   "cell_type": "markdown",
   "id": "dressed-allah",
   "metadata": {},
   "source": [
    "Cool. For each user, we found the max numbers of logins within any 7-day period. Let's now set the threshold of at least 3 logins to define adopted users:"
   ]
  },
  {
   "cell_type": "code",
   "execution_count": 16,
   "id": "powerful-sweden",
   "metadata": {},
   "outputs": [],
   "source": [
    "adopted_users = dl.groupby('user_id')['visited'].rolling('7d',closed='both').count().reset_index().groupby('user_id')['visited'].max()>=3\n",
    "adopted_users = adopted_users.replace([False,True],[0,1])"
   ]
  },
  {
   "cell_type": "code",
   "execution_count": 17,
   "id": "republican-treaty",
   "metadata": {},
   "outputs": [
    {
     "data": {
      "text/plain": [
       "user_id\n",
       "1    0\n",
       "2    1\n",
       "3    0\n",
       "4    0\n",
       "5    0\n",
       "6    0\n",
       "7    0\n",
       "Name: visited, dtype: int64"
      ]
     },
     "execution_count": 17,
     "metadata": {},
     "output_type": "execute_result"
    }
   ],
   "source": [
    "adopted_users.head(7)"
   ]
  },
  {
   "cell_type": "code",
   "execution_count": 18,
   "id": "statutory-football",
   "metadata": {},
   "outputs": [
    {
     "data": {
      "text/plain": [
       "0    7167\n",
       "1    1656\n",
       "Name: target, dtype: int64"
      ]
     },
     "execution_count": 18,
     "metadata": {},
     "output_type": "execute_result"
    }
   ],
   "source": [
    "adopted_users.name = 'target'\n",
    "adopted_users.value_counts()"
   ]
  },
  {
   "cell_type": "markdown",
   "id": "proved-contribution",
   "metadata": {},
   "source": [
    "There are 1,656 adopted users out of 8,823 present in the 2nd file. \n",
    "\n",
    "*NB: if we didn't specify the rolling window as closed on both sides, the number of adopted users would drop to 1602. This is because the default rolling window in pandas is closed only on the right side.*"
   ]
  },
  {
   "cell_type": "markdown",
   "id": "medium-slovenia",
   "metadata": {},
   "source": [
    "## 3. Identify which factors predict future user adoption"
   ]
  },
  {
   "cell_type": "markdown",
   "id": "treated-fiber",
   "metadata": {},
   "source": [
    "Let's merge the adopted_users series with the users dataframe, and then approach the task as a classification problem."
   ]
  },
  {
   "cell_type": "code",
   "execution_count": 19,
   "id": "magnetic-proxy",
   "metadata": {},
   "outputs": [
    {
     "data": {
      "text/html": [
       "<div>\n",
       "<style scoped>\n",
       "    .dataframe tbody tr th:only-of-type {\n",
       "        vertical-align: middle;\n",
       "    }\n",
       "\n",
       "    .dataframe tbody tr th {\n",
       "        vertical-align: top;\n",
       "    }\n",
       "\n",
       "    .dataframe thead th {\n",
       "        text-align: right;\n",
       "    }\n",
       "</style>\n",
       "<table border=\"1\" class=\"dataframe\">\n",
       "  <thead>\n",
       "    <tr style=\"text-align: right;\">\n",
       "      <th></th>\n",
       "      <th>object_id</th>\n",
       "      <th>creation_time</th>\n",
       "      <th>name</th>\n",
       "      <th>email</th>\n",
       "      <th>creation_source</th>\n",
       "      <th>last_session_creation_time</th>\n",
       "      <th>opted_in_to_mailing_list</th>\n",
       "      <th>enabled_for_marketing_drip</th>\n",
       "      <th>org_id</th>\n",
       "      <th>invited_by_user_id</th>\n",
       "      <th>target</th>\n",
       "    </tr>\n",
       "  </thead>\n",
       "  <tbody>\n",
       "    <tr>\n",
       "      <th>0</th>\n",
       "      <td>1</td>\n",
       "      <td>2014-04-22 03:53:30</td>\n",
       "      <td>Clausen August</td>\n",
       "      <td>AugustCClausen@yahoo.com</td>\n",
       "      <td>GUEST_INVITE</td>\n",
       "      <td>2014-04-22 03:53:30</td>\n",
       "      <td>1</td>\n",
       "      <td>0</td>\n",
       "      <td>11</td>\n",
       "      <td>10803.0</td>\n",
       "      <td>0.0</td>\n",
       "    </tr>\n",
       "    <tr>\n",
       "      <th>1</th>\n",
       "      <td>2</td>\n",
       "      <td>2013-11-15 03:45:04</td>\n",
       "      <td>Poole Matthew</td>\n",
       "      <td>MatthewPoole@gustr.com</td>\n",
       "      <td>ORG_INVITE</td>\n",
       "      <td>2014-03-31 03:45:04</td>\n",
       "      <td>0</td>\n",
       "      <td>0</td>\n",
       "      <td>1</td>\n",
       "      <td>316.0</td>\n",
       "      <td>1.0</td>\n",
       "    </tr>\n",
       "    <tr>\n",
       "      <th>2</th>\n",
       "      <td>3</td>\n",
       "      <td>2013-03-19 23:14:52</td>\n",
       "      <td>Bottrill Mitchell</td>\n",
       "      <td>MitchellBottrill@gustr.com</td>\n",
       "      <td>ORG_INVITE</td>\n",
       "      <td>2013-03-19 23:14:52</td>\n",
       "      <td>0</td>\n",
       "      <td>0</td>\n",
       "      <td>94</td>\n",
       "      <td>1525.0</td>\n",
       "      <td>0.0</td>\n",
       "    </tr>\n",
       "    <tr>\n",
       "      <th>3</th>\n",
       "      <td>4</td>\n",
       "      <td>2013-05-21 08:09:28</td>\n",
       "      <td>Clausen Nicklas</td>\n",
       "      <td>NicklasSClausen@yahoo.com</td>\n",
       "      <td>GUEST_INVITE</td>\n",
       "      <td>2013-05-22 08:09:28</td>\n",
       "      <td>0</td>\n",
       "      <td>0</td>\n",
       "      <td>1</td>\n",
       "      <td>5151.0</td>\n",
       "      <td>0.0</td>\n",
       "    </tr>\n",
       "    <tr>\n",
       "      <th>4</th>\n",
       "      <td>5</td>\n",
       "      <td>2013-01-17 10:14:20</td>\n",
       "      <td>Raw Grace</td>\n",
       "      <td>GraceRaw@yahoo.com</td>\n",
       "      <td>GUEST_INVITE</td>\n",
       "      <td>2013-01-22 10:14:20</td>\n",
       "      <td>0</td>\n",
       "      <td>0</td>\n",
       "      <td>193</td>\n",
       "      <td>5240.0</td>\n",
       "      <td>0.0</td>\n",
       "    </tr>\n",
       "  </tbody>\n",
       "</table>\n",
       "</div>"
      ],
      "text/plain": [
       "   object_id       creation_time               name  \\\n",
       "0          1 2014-04-22 03:53:30     Clausen August   \n",
       "1          2 2013-11-15 03:45:04      Poole Matthew   \n",
       "2          3 2013-03-19 23:14:52  Bottrill Mitchell   \n",
       "3          4 2013-05-21 08:09:28    Clausen Nicklas   \n",
       "4          5 2013-01-17 10:14:20          Raw Grace   \n",
       "\n",
       "                        email creation_source last_session_creation_time  \\\n",
       "0    AugustCClausen@yahoo.com    GUEST_INVITE        2014-04-22 03:53:30   \n",
       "1      MatthewPoole@gustr.com      ORG_INVITE        2014-03-31 03:45:04   \n",
       "2  MitchellBottrill@gustr.com      ORG_INVITE        2013-03-19 23:14:52   \n",
       "3   NicklasSClausen@yahoo.com    GUEST_INVITE        2013-05-22 08:09:28   \n",
       "4          GraceRaw@yahoo.com    GUEST_INVITE        2013-01-22 10:14:20   \n",
       "\n",
       "   opted_in_to_mailing_list  enabled_for_marketing_drip  org_id  \\\n",
       "0                         1                           0      11   \n",
       "1                         0                           0       1   \n",
       "2                         0                           0      94   \n",
       "3                         0                           0       1   \n",
       "4                         0                           0     193   \n",
       "\n",
       "   invited_by_user_id  target  \n",
       "0             10803.0     0.0  \n",
       "1               316.0     1.0  \n",
       "2              1525.0     0.0  \n",
       "3              5151.0     0.0  \n",
       "4              5240.0     0.0  "
      ]
     },
     "execution_count": 19,
     "metadata": {},
     "output_type": "execute_result"
    }
   ],
   "source": [
    "du = du.merge(adopted_users,how='left',left_on='object_id',right_index=True)\n",
    "du.head()"
   ]
  },
  {
   "cell_type": "code",
   "execution_count": 20,
   "id": "present-scheme",
   "metadata": {},
   "outputs": [],
   "source": [
    "du = du.set_index('object_id')"
   ]
  },
  {
   "cell_type": "code",
   "execution_count": 21,
   "id": "regional-canada",
   "metadata": {},
   "outputs": [
    {
     "data": {
      "text/plain": [
       "0.0    7167\n",
       "NaN    3177\n",
       "1.0    1656\n",
       "Name: target, dtype: int64"
      ]
     },
     "execution_count": 21,
     "metadata": {},
     "output_type": "execute_result"
    }
   ],
   "source": [
    "du['target'].value_counts(dropna=False)"
   ]
  },
  {
   "cell_type": "markdown",
   "id": "searching-acrobat",
   "metadata": {},
   "source": [
    "We had about 3k users missing in the 2nd file, which after left-side merging give NaN values in the target varable. Let's replace NaNs by 0, assuming those user who didn't make it to the 2nd file were simply inactive."
   ]
  },
  {
   "cell_type": "code",
   "execution_count": 22,
   "id": "variable-syndication",
   "metadata": {},
   "outputs": [
    {
     "data": {
      "text/plain": [
       "0.0    10344\n",
       "1.0     1656\n",
       "Name: target, dtype: int64"
      ]
     },
     "execution_count": 22,
     "metadata": {},
     "output_type": "execute_result"
    }
   ],
   "source": [
    "du['target'] = du['target'].fillna(0)\n",
    "du['target'].value_counts(dropna=False)"
   ]
  },
  {
   "cell_type": "markdown",
   "id": "trying-court",
   "metadata": {},
   "source": [
    "OK. Let's focus on feature engineering now. How many unique values for each feature:"
   ]
  },
  {
   "cell_type": "code",
   "execution_count": 23,
   "id": "genuine-prefix",
   "metadata": {},
   "outputs": [
    {
     "data": {
      "text/plain": [
       "creation_time                 11996\n",
       "name                          11355\n",
       "email                         11980\n",
       "creation_source                   5\n",
       "last_session_creation_time     8821\n",
       "opted_in_to_mailing_list          2\n",
       "enabled_for_marketing_drip        2\n",
       "org_id                          417\n",
       "invited_by_user_id             2564\n",
       "target                            2\n",
       "dtype: int64"
      ]
     },
     "execution_count": 23,
     "metadata": {},
     "output_type": "execute_result"
    }
   ],
   "source": [
    "du.nunique()"
   ]
  },
  {
   "cell_type": "markdown",
   "id": "exposed-shareware",
   "metadata": {},
   "source": [
    "A. We certainly don't need user names:"
   ]
  },
  {
   "cell_type": "code",
   "execution_count": 24,
   "id": "fitted-terrace",
   "metadata": {},
   "outputs": [],
   "source": [
    "du = du.drop('name',axis=1)"
   ]
  },
  {
   "cell_type": "markdown",
   "id": "simplified-leave",
   "metadata": {},
   "source": [
    "B. Neither user email addresses. But perhaps we can save the email domains. How many are there?:"
   ]
  },
  {
   "cell_type": "code",
   "execution_count": 25,
   "id": "scientific-middle",
   "metadata": {},
   "outputs": [
    {
     "data": {
      "text/plain": [
       "array(['yahoo.com', 'gustr.com', 'jourrapide.com', ..., 'uyhoy.com',\n",
       "       'eaouk.com', 'iuxiw.com'], dtype=object)"
      ]
     },
     "execution_count": 25,
     "metadata": {},
     "output_type": "execute_result"
    }
   ],
   "source": [
    "du['email'].str.split('@').str[-1].unique()"
   ]
  },
  {
   "cell_type": "code",
   "execution_count": 26,
   "id": "divided-hotel",
   "metadata": {},
   "outputs": [
    {
     "data": {
      "text/plain": [
       "1184"
      ]
     },
     "execution_count": 26,
     "metadata": {},
     "output_type": "execute_result"
    }
   ],
   "source": [
    "du['email'].str.split('@').str[-1].nunique()"
   ]
  },
  {
   "cell_type": "markdown",
   "id": "compressed-label",
   "metadata": {},
   "source": [
    "1k is managable, so let's convert personal emails to email domains."
   ]
  },
  {
   "cell_type": "code",
   "execution_count": 27,
   "id": "healthy-closing",
   "metadata": {},
   "outputs": [],
   "source": [
    "du['email'] = du['email'].str.split('@').str[-1]"
   ]
  },
  {
   "cell_type": "markdown",
   "id": "filled-privacy",
   "metadata": {},
   "source": [
    "C. There are two datetime columns: creation_time and last_session_creation_time. Do we need them? We already studied the activity of the user when defining adopted users, so we probably don't need the second variable. The time of the account creation might be useful, for example, if users churned because the service worsened over time. So, let's remove the 2nd column and convert the first one to the integer number of days from the earliest date in the file:"
   ]
  },
  {
   "cell_type": "code",
   "execution_count": 28,
   "id": "attempted-hollywood",
   "metadata": {},
   "outputs": [],
   "source": [
    "du = du.drop('last_session_creation_time',axis=1)\n",
    "du['creation_time'] = ((du['creation_time'] - du['creation_time'].min())/np.timedelta64(1,'D')).astype('int')"
   ]
  },
  {
   "cell_type": "markdown",
   "id": "rolled-boundary",
   "metadata": {},
   "source": [
    "D. We checked earlier that the missing values were present in the last_session_creation_time and invited_by_user_id columns. The first one is gone, let's replace NaNs in the 2nd one to 0."
   ]
  },
  {
   "cell_type": "code",
   "execution_count": 29,
   "id": "aquatic-offense",
   "metadata": {},
   "outputs": [],
   "source": [
    "du['invited_by_user_id'] =  du['invited_by_user_id'].fillna(0)"
   ]
  },
  {
   "cell_type": "code",
   "execution_count": 30,
   "id": "thirty-statistics",
   "metadata": {},
   "outputs": [
    {
     "name": "stdout",
     "output_type": "stream",
     "text": [
      "<class 'pandas.core.frame.DataFrame'>\n",
      "Int64Index: 12000 entries, 1 to 12000\n",
      "Data columns (total 8 columns):\n",
      " #   Column                      Non-Null Count  Dtype  \n",
      "---  ------                      --------------  -----  \n",
      " 0   creation_time               12000 non-null  int64  \n",
      " 1   email                       12000 non-null  object \n",
      " 2   creation_source             12000 non-null  object \n",
      " 3   opted_in_to_mailing_list    12000 non-null  int64  \n",
      " 4   enabled_for_marketing_drip  12000 non-null  int64  \n",
      " 5   org_id                      12000 non-null  int64  \n",
      " 6   invited_by_user_id          12000 non-null  float64\n",
      " 7   target                      12000 non-null  float64\n",
      "dtypes: float64(2), int64(4), object(2)\n",
      "memory usage: 843.8+ KB\n"
     ]
    }
   ],
   "source": [
    "du.info()"
   ]
  },
  {
   "cell_type": "markdown",
   "id": "blessed-pleasure",
   "metadata": {},
   "source": [
    "Good, no more missing values. What do we have in the dataset now?:"
   ]
  },
  {
   "cell_type": "code",
   "execution_count": 31,
   "id": "attractive-banana",
   "metadata": {},
   "outputs": [
    {
     "data": {
      "text/html": [
       "<div>\n",
       "<style scoped>\n",
       "    .dataframe tbody tr th:only-of-type {\n",
       "        vertical-align: middle;\n",
       "    }\n",
       "\n",
       "    .dataframe tbody tr th {\n",
       "        vertical-align: top;\n",
       "    }\n",
       "\n",
       "    .dataframe thead th {\n",
       "        text-align: right;\n",
       "    }\n",
       "</style>\n",
       "<table border=\"1\" class=\"dataframe\">\n",
       "  <thead>\n",
       "    <tr style=\"text-align: right;\">\n",
       "      <th></th>\n",
       "      <th>creation_time</th>\n",
       "      <th>email</th>\n",
       "      <th>creation_source</th>\n",
       "      <th>opted_in_to_mailing_list</th>\n",
       "      <th>enabled_for_marketing_drip</th>\n",
       "      <th>org_id</th>\n",
       "      <th>invited_by_user_id</th>\n",
       "      <th>target</th>\n",
       "    </tr>\n",
       "    <tr>\n",
       "      <th>object_id</th>\n",
       "      <th></th>\n",
       "      <th></th>\n",
       "      <th></th>\n",
       "      <th></th>\n",
       "      <th></th>\n",
       "      <th></th>\n",
       "      <th></th>\n",
       "      <th></th>\n",
       "    </tr>\n",
       "  </thead>\n",
       "  <tbody>\n",
       "    <tr>\n",
       "      <th>1</th>\n",
       "      <td>691</td>\n",
       "      <td>yahoo.com</td>\n",
       "      <td>GUEST_INVITE</td>\n",
       "      <td>1</td>\n",
       "      <td>0</td>\n",
       "      <td>11</td>\n",
       "      <td>10803.0</td>\n",
       "      <td>0.0</td>\n",
       "    </tr>\n",
       "    <tr>\n",
       "      <th>2</th>\n",
       "      <td>533</td>\n",
       "      <td>gustr.com</td>\n",
       "      <td>ORG_INVITE</td>\n",
       "      <td>0</td>\n",
       "      <td>0</td>\n",
       "      <td>1</td>\n",
       "      <td>316.0</td>\n",
       "      <td>1.0</td>\n",
       "    </tr>\n",
       "    <tr>\n",
       "      <th>3</th>\n",
       "      <td>292</td>\n",
       "      <td>gustr.com</td>\n",
       "      <td>ORG_INVITE</td>\n",
       "      <td>0</td>\n",
       "      <td>0</td>\n",
       "      <td>94</td>\n",
       "      <td>1525.0</td>\n",
       "      <td>0.0</td>\n",
       "    </tr>\n",
       "    <tr>\n",
       "      <th>4</th>\n",
       "      <td>355</td>\n",
       "      <td>yahoo.com</td>\n",
       "      <td>GUEST_INVITE</td>\n",
       "      <td>0</td>\n",
       "      <td>0</td>\n",
       "      <td>1</td>\n",
       "      <td>5151.0</td>\n",
       "      <td>0.0</td>\n",
       "    </tr>\n",
       "    <tr>\n",
       "      <th>5</th>\n",
       "      <td>231</td>\n",
       "      <td>yahoo.com</td>\n",
       "      <td>GUEST_INVITE</td>\n",
       "      <td>0</td>\n",
       "      <td>0</td>\n",
       "      <td>193</td>\n",
       "      <td>5240.0</td>\n",
       "      <td>0.0</td>\n",
       "    </tr>\n",
       "  </tbody>\n",
       "</table>\n",
       "</div>"
      ],
      "text/plain": [
       "           creation_time      email creation_source  opted_in_to_mailing_list  \\\n",
       "object_id                                                                       \n",
       "1                    691  yahoo.com    GUEST_INVITE                         1   \n",
       "2                    533  gustr.com      ORG_INVITE                         0   \n",
       "3                    292  gustr.com      ORG_INVITE                         0   \n",
       "4                    355  yahoo.com    GUEST_INVITE                         0   \n",
       "5                    231  yahoo.com    GUEST_INVITE                         0   \n",
       "\n",
       "           enabled_for_marketing_drip  org_id  invited_by_user_id  target  \n",
       "object_id                                                                  \n",
       "1                                   0      11             10803.0     0.0  \n",
       "2                                   0       1               316.0     1.0  \n",
       "3                                   0      94              1525.0     0.0  \n",
       "4                                   0       1              5151.0     0.0  \n",
       "5                                   0     193              5240.0     0.0  "
      ]
     },
     "execution_count": 31,
     "metadata": {},
     "output_type": "execute_result"
    }
   ],
   "source": [
    "du.head()"
   ]
  },
  {
   "cell_type": "markdown",
   "id": "sunset-friendship",
   "metadata": {},
   "source": [
    "Two categorical variables: email and creation_source. Let's convert them to numerical features. Let's use LabelEcoder for 1184 email domains and one-hot encoding for 5 creation sources:"
   ]
  },
  {
   "cell_type": "code",
   "execution_count": 32,
   "id": "intended-poverty",
   "metadata": {},
   "outputs": [],
   "source": [
    "from sklearn.preprocessing import LabelEncoder\n",
    "\n",
    "le = LabelEncoder()\n",
    "du['email'] = le.fit_transform(du['email'].values)\n",
    "\n",
    "du = pd.concat((du,pd.get_dummies(du['creation_source'], prefix='creation_source')),axis=1).drop('creation_source',axis=1)"
   ]
  },
  {
   "cell_type": "markdown",
   "id": "handy-disclaimer",
   "metadata": {},
   "source": [
    "du.head()"
   ]
  },
  {
   "cell_type": "markdown",
   "id": "dress-deposit",
   "metadata": {},
   "source": [
    "OK. we're ready for the modelling. We were supposed to spent no more than 2 hours for this project, so let's study the feature importance with just one model, for example with the LighGBM gradient boosting model, which usually has better performance than Random Forest and is quicker than XGBoost."
   ]
  },
  {
   "cell_type": "code",
   "execution_count": 33,
   "id": "significant-steel",
   "metadata": {},
   "outputs": [],
   "source": [
    "from sklearn.model_selection import train_test_split\n",
    "from lightgbm import LGBMClassifier\n",
    "from sklearn.model_selection import GridSearchCV"
   ]
  },
  {
   "cell_type": "code",
   "execution_count": 34,
   "id": "veterinary-method",
   "metadata": {},
   "outputs": [
    {
     "data": {
      "text/plain": [
       "((9000, 11), (9000,), (3000, 11), (3000,))"
      ]
     },
     "execution_count": 34,
     "metadata": {},
     "output_type": "execute_result"
    }
   ],
   "source": [
    "X = du.drop('target',axis=1)\n",
    "y = du['target']\n",
    "\n",
    "X_train,X_test,y_train,y_test = train_test_split(X,y,test_size=0.25,random_state=123)\n",
    "\n",
    "X_train.shape, y_train.shape, X_test.shape, y_test.shape"
   ]
  },
  {
   "cell_type": "code",
   "execution_count": 35,
   "id": "appreciated-straight",
   "metadata": {},
   "outputs": [
    {
     "name": "stdout",
     "output_type": "stream",
     "text": [
      "Best Parameters: {'boosting_type': 'gbdt', 'learning_rate': 0.01, 'n_estimators': 200, 'num_leaves': 16}\n",
      "CPU times: user 1.06 s, sys: 113 ms, total: 1.17 s\n",
      "Wall time: 40.7 s\n"
     ]
    }
   ],
   "source": [
    "%%time\n",
    "lgb = LGBMClassifier(random_state=123)\n",
    "\n",
    "grid = {'boosting_type': ['gbdt','dart'],\n",
    "        'n_estimators': [100, 200, 500],\n",
    "        'learning_rate': [0.01, 0.1, 0.5],\n",
    "        'num_leaves': [16, 32, 64]}\n",
    "\n",
    "lgb_grid_cv = GridSearchCV(lgb,param_grid=grid,scoring='roc_auc',return_train_score=True,cv=3,n_jobs=-1)\n",
    "        \n",
    "lgb_grid_cv.fit(X_train, y_train)\n",
    "        \n",
    "print(\"Best Parameters: \" + str(lgb_grid_cv.best_params_))"
   ]
  },
  {
   "cell_type": "code",
   "execution_count": 36,
   "id": "flexible-portland",
   "metadata": {},
   "outputs": [
    {
     "data": {
      "image/png": "[encoded data removed]",
      "text/plain": [
       "<Figure size 1440x504 with 1 Axes>"
      ]
     },
     "metadata": {
      "needs_background": "light"
     },
     "output_type": "display_data"
    }
   ],
   "source": [
    "lgb_fi = pd.Series(lgb_grid_cv.best_estimator_.feature_importances_, index=X.columns)\n",
    "\n",
    "ax = lgb_fi.sort_values().plot.barh(figsize=(20,7))\n",
    "ax.set_title('LighGBM model',fontsize=18); ax.set_xlabel('Feature importance')\n",
    "\n",
    "plt.tight_layout()"
   ]
  },
  {
   "cell_type": "markdown",
   "id": "acquired-affair",
   "metadata": {},
   "source": [
    "To draw final coclusions, let's plot the distributions of the 4 most significant features, separately for users who were adopted and usered who churned:"
   ]
  },
  {
   "cell_type": "code",
   "execution_count": 37,
   "id": "decent-soccer",
   "metadata": {},
   "outputs": [
    {
     "data": {
      "image/png": "[encoded data removed]",
      "text/plain": [
       "<Figure size 1440x360 with 4 Axes>"
      ]
     },
     "metadata": {
      "needs_background": "light"
     },
     "output_type": "display_data"
    }
   ],
   "source": [
    "fig, ax = plt.subplots(1,4,figsize=(20,5))\n",
    "\n",
    "#ax = ax.ravel()\n",
    "#ax[7].set_axis_off()\n",
    "\n",
    "for i,col in enumerate(lgb_fi.sort_values(ascending=False).index[:4]):\n",
    "    \n",
    "    r = (du[col].min(),du[col].max()); b = 50\n",
    "    \n",
    "    du[du['target']==0][col].plot(kind='hist',density=True,ax=ax[i],range=r,bins=b,color='b',alpha=0.5,label='Churned')\n",
    "    du[du['target']==1][col].plot(kind='hist',density=True,ax=ax[i],range=r,bins=b,color='y',alpha=0.5,label='Adopted')\n",
    "    ax[i].set_yscale('log')\n",
    "    \n",
    "    ax[i].set_xlabel(col)\n",
    "    ax[i].set_ylabel(\"\")\n",
    "    if i==4: ax[i].set_ylabel(\"N. of customers (normalized)\",position=(0,1.1))\n",
    "        \n",
    "ax[0].legend(fontsize=15)\n",
    "fig.tight_layout()"
   ]
  },
  {
   "cell_type": "markdown",
   "id": "polish-newark",
   "metadata": {},
   "source": [
    "Interestingly, the 'creation time' feature shown in the second plot exhibits a high churn rate at the end of the period under study, but we think this might be an artifact related to the definition of the adopted user. Apparently a period of about a year is needed for a user to be able to login more than 3 times in 7 consequtive days.\n",
    "\n",
    "\n",
    "To conclude, it seems that the most significant factors for the customer adoption are:\n",
    "1. __the organization to which the users belong to (org_id)__; there is a clear excess of churned (adopted) users for organizations with low (high) id,\n",
    "2. __whether the user was invited by other user (invited_by_other_user_id)__; there are less adopted users who where not invited by other users (bin 0), and about half of the users who invite others have a strong adopting power (those with ids for which yellow histogram is in excess to the blue histogram). In addition, a pretty large contribution from the __creation_source_PERSONAL_PROJECTS__ variable in the feature important plot suggests that the adopted users are being invited to join another user's personal workspace,\n",
    "4. __the email domain they use (email)__; there are a few domains whose users didn't adopt at all."
   ]
  }
 ],
 "metadata": {
  "kernelspec": {
   "display_name": "Python 3",
   "language": "python",
   "name": "python3"
  },
  "language_info": {
   "codemirror_mode": {
    "name": "ipython",
    "version": 3
   },
   "file_extension": ".py",
   "mimetype": "text/x-python",
   "name": "python",
   "nbconvert_exporter": "python",
   "pygments_lexer": "ipython3",
   "version": "3.8.6"
  }
 },
 "nbformat": 4,
 "nbformat_minor": 5
}
